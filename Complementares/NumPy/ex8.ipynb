{
 "cells": [
  {
   "cell_type": "code",
   "execution_count": null,
   "metadata": {},
   "outputs": [],
   "source": [
    "import numpy as np\n",
    "\n",
    "arr = np.arange(25).reshape(5, 5)\n"
   ]
  },
  {
   "cell_type": "code",
   "execution_count": null,
   "metadata": {},
   "outputs": [],
   "source": [
    "mlinha = np.mean(arr, axis=1)\n",
    "print(\"Media. linha 0:\",mlinha[0],\n",
    "      \"\\nlinha 2:\",mlinha[2],\n",
    "      \"\\nlinha 3:\",mlinha[3])"
   ]
  },
  {
   "cell_type": "code",
   "execution_count": null,
   "metadata": {},
   "outputs": [],
   "source": [
    "mcoluna = np.mean(arr, axis=0)\n",
    "print(\"Media. coluna 0:\",mcoluna[0],\n",
    "      \"\\ncoluna 1:\",mcoluna[1],\n",
    "      \"\\ncoluna 4:\",mcoluna[4])"
   ]
  },
  {
   "cell_type": "code",
   "execution_count": null,
   "metadata": {},
   "outputs": [],
   "source": [
    "a = np.trace(arr)\n",
    "b = np.fliplr(arr)\n",
    "b = np.trace(b)\n",
    "print(a+b)"
   ]
  }
 ],
 "metadata": {
  "interpreter": {
   "hash": "5f923dfb8c1769491e5cc8b59ff17a04f8bca238f983fd5e4b7fb033aa5c8457"
  },
  "kernelspec": {
   "display_name": "Python 3.9.12 ('base')",
   "language": "python",
   "name": "python3"
  },
  "language_info": {
   "codemirror_mode": {
    "name": "ipython",
    "version": 3
   },
   "file_extension": ".py",
   "mimetype": "text/x-python",
   "name": "python",
   "nbconvert_exporter": "python",
   "pygments_lexer": "ipython3",
   "version": "3.9.12"
  },
  "orig_nbformat": 4
 },
 "nbformat": 4,
 "nbformat_minor": 2
}
