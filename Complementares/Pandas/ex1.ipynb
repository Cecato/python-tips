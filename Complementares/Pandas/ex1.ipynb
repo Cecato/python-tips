{
 "cells": [
  {
   "cell_type": "code",
   "execution_count": null,
   "metadata": {},
   "outputs": [],
   "source": [
    "import pandas as pd\n",
    "df = pd.read_csv(r\"actors.csv\")\n",
    "print(df)"
   ]
  },
  {
   "cell_type": "code",
   "execution_count": null,
   "metadata": {},
   "outputs": [],
   "source": [
    "import pandas as pd\n",
    "df = pd.read_csv(r\"actors.csv\")\n",
    "\n",
    "maior = df[\"Number of Movies\"].idxmax()\n",
    "\n",
    "print(df.iloc[maior:maior+1,[0,2],])\n"
   ]
  },
  {
   "cell_type": "code",
   "execution_count": null,
   "metadata": {},
   "outputs": [],
   "source": [
    "import pandas as pd\n",
    "df = pd.read_csv(r\"actors.csv\")\n",
    "\n",
    "media = df[\"Number of Movies\"].mean()\n",
    "\n",
    "print(\"\\nMedia:\",media)"
   ]
  },
  {
   "cell_type": "code",
   "execution_count": null,
   "metadata": {},
   "outputs": [],
   "source": [
    "import pandas as pd\n",
    "df = pd.read_csv(r\"actors.csv\")\n",
    "\n",
    "media_filme = df[\"Average per Movie\"].idxmax()\n",
    "\n",
    "print(\"\\n\",df.iloc[media_filme:media_filme+1,[0,3],])"
   ]
  },
  {
   "cell_type": "code",
   "execution_count": 32,
   "metadata": {},
   "outputs": [
    {
     "name": "stdout",
     "output_type": "stream",
     "text": [
      "                                     Actor  Total Gross  Number of Movies  \\\n",
      "#1 Movie                                                                    \n",
      "American Sniper                          1            1                 1   \n",
      "Avengers: Age of Ultron                  2            2                 2   \n",
      "Catching Fire                            4            4                 4   \n",
      "Dead Man's Chest                         2            2                 2   \n",
      "Harry Potter / Deathly Hallows (P2)      4            4                 4   \n",
      "Hotel Transylvania 2                     1            1                 1   \n",
      "Independence Day                         1            1                 1   \n",
      "Meet the Fockers                         3            3                 3   \n",
      "Men in Black                             1            1                 1   \n",
      "Minions                                  1            1                 1   \n",
      "Night at the Museum                      2            2                 2   \n",
      "Ocean's Eleven                           1            1                 1   \n",
      "Return of the King                       2            2                 2   \n",
      "Shrek 2                                  2            2                 2   \n",
      "Sixth Sense                              1            1                 1   \n",
      "Star Wars: The Force Awakens             3            3                 3   \n",
      "The Avengers                             6            6                 6   \n",
      "The Dark Knight                          3            3                 3   \n",
      "The Dark Knight Rises                    1            1                 1   \n",
      "The Grinch                               1            1                 1   \n",
      "The LEGO Movie                           1            1                 1   \n",
      "The Martian                              1            1                 1   \n",
      "The Phantom Menace                       1            1                 1   \n",
      "Titanic                                  1            1                 1   \n",
      "Toy Story 3                              1            1                 1   \n",
      "Transformers 4                           1            1                 1   \n",
      "War of the Worlds                        1            1                 1   \n",
      "World War Z                              1            1                 1   \n",
      "\n",
      "                                     Average per Movie  Gross  \n",
      "#1 Movie                                                       \n",
      "American Sniper                                      1      1  \n",
      "Avengers: Age of Ultron                              2      2  \n",
      "Catching Fire                                        4      4  \n",
      "Dead Man's Chest                                     2      2  \n",
      "Harry Potter / Deathly Hallows (P2)                  4      4  \n",
      "Hotel Transylvania 2                                 1      1  \n",
      "Independence Day                                     1      1  \n",
      "Meet the Fockers                                     3      3  \n",
      "Men in Black                                         1      1  \n",
      "Minions                                              1      1  \n",
      "Night at the Museum                                  2      2  \n",
      "Ocean's Eleven                                       1      1  \n",
      "Return of the King                                   2      2  \n",
      "Shrek 2                                              2      2  \n",
      "Sixth Sense                                          1      1  \n",
      "Star Wars: The Force Awakens                         3      3  \n",
      "The Avengers                                         6      6  \n",
      "The Dark Knight                                      3      3  \n",
      "The Dark Knight Rises                                1      1  \n",
      "The Grinch                                           1      1  \n",
      "The LEGO Movie                                       1      1  \n",
      "The Martian                                          1      1  \n",
      "The Phantom Menace                                   1      1  \n",
      "Titanic                                              1      1  \n",
      "Toy Story 3                                          1      1  \n",
      "Transformers 4                                       1      1  \n",
      "War of the Worlds                                    1      1  \n",
      "World War Z                                          1      1  \n"
     ]
    }
   ],
   "source": [
    "import pandas as pd\n",
    "df = pd.read_csv(r\"actors.csv\")\n",
    "\n",
    "filme = df.groupby([\"#1 Movie\"]).count()\n",
    "print(filme)"
   ]
  }
 ],
 "metadata": {
  "interpreter": {
   "hash": "5f923dfb8c1769491e5cc8b59ff17a04f8bca238f983fd5e4b7fb033aa5c8457"
  },
  "kernelspec": {
   "display_name": "Python 3.9.12 ('base')",
   "language": "python",
   "name": "python3"
  },
  "language_info": {
   "codemirror_mode": {
    "name": "ipython",
    "version": 3
   },
   "file_extension": ".py",
   "mimetype": "text/x-python",
   "name": "python",
   "nbconvert_exporter": "python",
   "pygments_lexer": "ipython3",
   "version": "3.9.12"
  },
  "orig_nbformat": 4
 },
 "nbformat": 4,
 "nbformat_minor": 2
}
