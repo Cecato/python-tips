{
 "cells": [
  {
   "cell_type": "code",
   "execution_count": 1,
   "id": "1aa1265f",
   "metadata": {},
   "outputs": [
    {
     "name": "stdout",
     "output_type": "stream",
     "text": [
      "gustavo vai fazer 100 anos no ano de: 2110\n"
     ]
    }
   ],
   "source": [
    "name = input(\"Digite o seu nome:\")\n",
    "idade = int(input(\"Digite a sua idade:\"))\n",
    "ano = (100-idade) + 2022\n",
    "print(name,\"vai fazer 100 anos no ano de:\",ano)"
   ]
  }
 ],
 "metadata": {
  "interpreter": {
   "hash": "5f923dfb8c1769491e5cc8b59ff17a04f8bca238f983fd5e4b7fb033aa5c8457"
  },
  "kernelspec": {
   "display_name": "Python 3.9.12 ('base')",
   "language": "python",
   "name": "python3"
  },
  "language_info": {
   "codemirror_mode": {
    "name": "ipython",
    "version": 3
   },
   "file_extension": ".py",
   "mimetype": "text/x-python",
   "name": "python",
   "nbconvert_exporter": "python",
   "pygments_lexer": "ipython3",
   "version": "3.9.12"
  }
 },
 "nbformat": 4,
 "nbformat_minor": 5
}
