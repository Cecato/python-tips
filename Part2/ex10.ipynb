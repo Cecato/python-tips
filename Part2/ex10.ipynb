{
 "cells": [
  {
   "cell_type": "code",
   "execution_count": 111,
   "metadata": {},
   "outputs": [
    {
     "name": "stdout",
     "output_type": "stream",
     "text": [
      "True\n",
      "False\n",
      "True\n"
     ]
    }
   ],
   "source": [
    "class Lampada(object):\n",
    "    def __init__(self, liga, desliga, esta_ligada):\n",
    "        self._liga = liga\n",
    "        self._desliga = desliga\n",
    "        self._esta_ligada = esta_ligada\n",
    "        \n",
    "    @property\n",
    "    def liga(self):\n",
    "        self._liga = True\n",
    "        return self._liga\n",
    "        \n",
    "    @property\n",
    "    def desliga(self):\n",
    "        self._desliga = False\n",
    "        return self._desliga\n",
    "    \n",
    "    \n",
    "    @property\n",
    "    def esta_ligada(self):\n",
    "        return self._esta_ligada\n",
    "\n",
    "        \n",
    "instance = Lampada(False, True, True)\n",
    "   \n",
    "print(instance.liga)\n",
    "print(instance.desliga)\n",
    "print(instance.esta_ligada)\n",
    "    "
   ]
  }
 ],
 "metadata": {
  "language_info": {
   "name": "python"
  },
  "orig_nbformat": 4
 },
 "nbformat": 4,
 "nbformat_minor": 2
}
