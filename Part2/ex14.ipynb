{
 "cells": [
  {
   "cell_type": "code",
   "execution_count": 19,
   "metadata": {},
   "outputs": [
    {
     "name": "stdout",
     "output_type": "stream",
     "text": [
      "[5, 21, 34, 57, 58, 66, 82, 91, 99, 139, 149, 156, 166, 168, 171, 195, 197, 212, 231, 239, 254, 258, 262, 275, 277, 294, 310, 312, 316, 325, 347, 353, 354, 359, 364, 366, 395, 405, 407, 413, 418, 441, 446, 456, 459, 470, 486, 490, 491, 495]\n",
      "Menor Valor: 5\n",
      "Maior Valor: 495\n",
      "Media: 276.68\n",
      "Mediana: 285.5\n"
     ]
    }
   ],
   "source": [
    "def median(l):\n",
    "    half = len(l) // 2\n",
    "    l.sort()\n",
    "    if not len(l) % 2:\n",
    "        return (l[half - 1] + l[half]) / 2.0\n",
    "    return l[half]\n",
    "\n",
    "import random\n",
    "# amostra aleatoriamente 50 números do intervalo 0...500\n",
    "random_list = random.sample(range(500), 50)\n",
    "random_list.sort()\n",
    "\n",
    "menor = min(random_list)\n",
    "maior = max(random_list)\n",
    "media = sum(random_list)/len(random_list)\n",
    "mediana = median(random_list)\n",
    "\n",
    "print(random_list)\n",
    "print(\"Menor Valor:\",menor)\n",
    "print(\"Maior Valor:\",maior)\n",
    "print(\"Media:\",media)\n",
    "print(\"Mediana:\",mediana)"
   ]
  }
 ],
 "metadata": {
  "interpreter": {
   "hash": "5f923dfb8c1769491e5cc8b59ff17a04f8bca238f983fd5e4b7fb033aa5c8457"
  },
  "kernelspec": {
   "display_name": "Python 3.9.12 ('base')",
   "language": "python",
   "name": "python3"
  },
  "language_info": {
   "codemirror_mode": {
    "name": "ipython",
    "version": 3
   },
   "file_extension": ".py",
   "mimetype": "text/x-python",
   "name": "python",
   "nbconvert_exporter": "python",
   "pygments_lexer": "ipython3",
   "version": "3.9.12"
  },
  "orig_nbformat": 4
 },
 "nbformat": 4,
 "nbformat_minor": 2
}
