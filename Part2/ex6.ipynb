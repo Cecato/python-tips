{
 "cells": [
  {
   "cell_type": "code",
   "execution_count": 1,
   "metadata": {},
   "outputs": [
    {
     "name": "stdout",
     "output_type": "stream",
     "text": [
      "What is Lorem Ipsum?\n",
      "\n",
      "Lorem Ipsum is simply dummy \n",
      "\n",
      "text of the printing and typesetting\n",
      "\n",
      "industry. Lorem Ipsum has been the \n",
      "\n",
      "industry's standard dummy text \n",
      "\n",
      "ever since the 1500s, when an unknown \n",
      "\n",
      "printer took a galley of type and \n",
      "\n",
      "scrambled it to make a type specimen book.\n",
      "\n",
      "It has survived not only five centuries, \n",
      "\n",
      "but also the leap into electronic \n",
      "\n",
      "typesetting, remaining essentially \n",
      "\n",
      "unchanged. It was popularised in the \n",
      "\n",
      "1960s with the release of Letraset sheets \n",
      "\n",
      "containing Lorem Ipsum passages, and more \n",
      "\n",
      "recently with desktop publishing software \n",
      "\n",
      "like Aldus PageMaker including versions \n",
      "\n",
      "of Lorem Ipsum.\n",
      "\n",
      "\n",
      "\n",
      "Why do we use it?\n",
      "\n",
      "It is a long established fact that a \n",
      "\n",
      "reader will be distracted by the \n",
      "\n",
      "readable content of a page when looking \n",
      "\n",
      "at its layout. The point of using Lorem \n",
      "\n",
      "Ipsum is that it has a more-or-less normal\n",
      "\n",
      "distribution of letters, as opposed to \n",
      "\n",
      "using 'Content here, content here', \n",
      "\n",
      "making it look like readable English. \n",
      "\n",
      "Many desktop publishing packages and web \n",
      "\n",
      "page editors now use Lorem Ipsum as their \n",
      "\n",
      "default model text, and a search for \n",
      "\n",
      "'lorem ipsum' will uncover many web sites \n",
      "\n",
      "still in their infancy. Various versions \n",
      "\n",
      "have evolved over the years, sometimes \n",
      "\n",
      "by accident, sometimes on purpose \n",
      "\n",
      "(injected humour and the like).\n"
     ]
    }
   ],
   "source": [
    "arquivo = open(\"arquivo_texto.txt\")\n",
    "list = arquivo.readlines()\n",
    "\n",
    "for i in list:\n",
    "    print(i)\n"
   ]
  }
 ],
 "metadata": {
  "interpreter": {
   "hash": "5f923dfb8c1769491e5cc8b59ff17a04f8bca238f983fd5e4b7fb033aa5c8457"
  },
  "kernelspec": {
   "display_name": "Python 3.9.12 ('base')",
   "language": "python",
   "name": "python3"
  },
  "language_info": {
   "codemirror_mode": {
    "name": "ipython",
    "version": 3
   },
   "file_extension": ".py",
   "mimetype": "text/x-python",
   "name": "python",
   "nbconvert_exporter": "python",
   "pygments_lexer": "ipython3",
   "version": "3.9.12"
  },
  "orig_nbformat": 4
 },
 "nbformat": 4,
 "nbformat_minor": 2
}
