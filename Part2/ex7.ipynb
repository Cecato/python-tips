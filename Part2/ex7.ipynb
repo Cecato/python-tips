{
 "cells": [
  {
   "cell_type": "code",
   "execution_count": 8,
   "metadata": {},
   "outputs": [
    {
     "name": "stdout",
     "output_type": "stream",
     "text": [
      "name : Gustavo\n",
      "salary : 0\n",
      "skills : ['Php', 'Machine Learning', 'Web Development']\n",
      "email : Gustavo@gugu.com\n",
      "projects : ['Python Data Mining', 'Python Data Science']\n"
     ]
    }
   ],
   "source": [
    "import json\n",
    "\n",
    "with open(\"person.json\",\"r\") as read_file:\n",
    "    i = json.load(read_file)\n",
    "    \n",
    "    for j, z, in i.items():\n",
    "        print(j,\":\",z)\n"
   ]
  }
 ],
 "metadata": {
  "interpreter": {
   "hash": "5f923dfb8c1769491e5cc8b59ff17a04f8bca238f983fd5e4b7fb033aa5c8457"
  },
  "kernelspec": {
   "display_name": "Python 3.9.12 ('base')",
   "language": "python",
   "name": "python3"
  },
  "language_info": {
   "codemirror_mode": {
    "name": "ipython",
    "version": 3
   },
   "file_extension": ".py",
   "mimetype": "text/x-python",
   "name": "python",
   "nbconvert_exporter": "python",
   "pygments_lexer": "ipython3",
   "version": "3.9.12"
  },
  "orig_nbformat": 4
 },
 "nbformat": 4,
 "nbformat_minor": 2
}
