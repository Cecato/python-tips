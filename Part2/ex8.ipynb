{
 "cells": [
  {
   "cell_type": "code",
   "execution_count": 8,
   "metadata": {},
   "outputs": [
    {
     "name": "stdout",
     "output_type": "stream",
     "text": [
      "[2, 3, 4, 5, 6]\n"
     ]
    }
   ],
   "source": [
    "def f(elemento):\n",
    "    return elemento+1\n",
    "\n",
    "def my_map(list, f):\n",
    "    \n",
    "    l = []\n",
    "    for i in list:\n",
    "        l.append(f(i))\n",
    "        \n",
    "    return l\n",
    "        \n",
    "lista = [1,2,3,4,5]\n",
    "\n",
    "lista = my_map(lista,f)\n",
    "\n",
    "print(lista)\n",
    "            "
   ]
  }
 ],
 "metadata": {
  "interpreter": {
   "hash": "5f923dfb8c1769491e5cc8b59ff17a04f8bca238f983fd5e4b7fb033aa5c8457"
  },
  "kernelspec": {
   "display_name": "Python 3.9.12 ('base')",
   "language": "python",
   "name": "python3"
  },
  "language_info": {
   "codemirror_mode": {
    "name": "ipython",
    "version": 3
   },
   "file_extension": ".py",
   "mimetype": "text/x-python",
   "name": "python",
   "nbconvert_exporter": "python",
   "pygments_lexer": "ipython3",
   "version": "3.9.12"
  },
  "orig_nbformat": 4
 },
 "nbformat": 4,
 "nbformat_minor": 2
}
