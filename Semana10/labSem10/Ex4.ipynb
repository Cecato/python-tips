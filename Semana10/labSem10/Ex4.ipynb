{
 "cells": [
  {
   "cell_type": "code",
   "execution_count": 7,
   "metadata": {},
   "outputs": [],
   "source": [
    "import tweepy\n",
    "\n",
    "#adicionando credenciais\n",
    "\n",
    "twitter_keys = {\n",
    "    'consumer_key':         'KEYS',\n",
    "    'consumer_secret':      'KEYS',\n",
    "    'access_token_key':      'KEYS',\n",
    "    'access_token_secret':   'KEYS'\n",
    "}"
   ]
  },
  {
   "cell_type": "code",
   "execution_count": 8,
   "metadata": {},
   "outputs": [],
   "source": [
    "#configurando acesso a API\n",
    "auth = tweepy.OAuth1UserHandler(twitter_keys['consumer_key'], twitter_keys['consumer_secret'])\n",
    "auth.set_access_token(twitter_keys['access_token_key'], twitter_keys['access_token_secret'])\n",
    "\n",
    "api = tweepy.API(auth)"
   ]
  },
  {
   "cell_type": "code",
   "execution_count": 9,
   "metadata": {},
   "outputs": [
    {
     "name": "stdout",
     "output_type": "stream",
     "text": [
      "SEGUUURAAAAA O TIMAOOOOOO VAMO COME O FLABUCETA\n",
      "primeiro que eu leio que quero que seja verdade https://t.co/DErQBdGgK5\n",
      "#ofertadodia\n",
      "\n",
      "Copo térmico de cerveja Stanley | 473ml\n",
      "\n",
      "De: R$ 179,00\n",
      "Por: R$ 136,96📌\n",
      "\n",
      "https://t.co/S37u4xPgPs\n",
      "#ofertadodia\n",
      "\n",
      "Toss a coin to your witcher!!!\n",
      "The Witcher - Box capa clássica\n",
      "\n",
      "De: R$ 399,90\n",
      "Por: R$ 263,40📌\n",
      "\n",
      "https://t.co/lOSepKJsTo\n",
      "#ofertadodia\n",
      "\n",
      "Mangá Demon Slayer - Kimetsu No Yaiba Vol. 1\n",
      "\n",
      "De: R$ 33,90\n",
      "Por: R$ 21,50📌\n",
      "\n",
      "https://t.co/Z1H5Xcl6dV\n",
      "#ofertadodia\n",
      "\n",
      "Versão ultimate!!!\n",
      "Marvel's Spider-Man: Miles Morales Edição Ultimate - PlayStation 5\n",
      "\n",
      "De: R$ 349,90… https://t.co/tjei6NfDPL\n",
      "#ofertadodia\n",
      "\n",
      "JOGÃO DO CRL ❤️❤️❤️❤️❤️❤️\n",
      "\n",
      "Marvel's Spider-Man: Miles Morales Edição Padrão - PlayStation 5\n",
      "\n",
      "De:R$ 24… https://t.co/Jyyh1jRNLj\n",
      "SAUDACOES CAPITAO NAO TEMHO EMOJI DE EXERCITO MAS SAUDACOES TE AMO CORINTHIANS https://t.co/Oa3ERrIV0D\n",
      "RT @mepegoumto: https://t.co/Dan9UTqv1X\n",
      "fiz aquela trend de beijar seu pet e ver a reação dele 😭💖🤧 https://t.co/vKTrForoS0\n",
      "so tenho essa semana de ferias pra curtir e depois a bosta da escola de novo 😢\n",
      "#16 Atravessando O Abismo\n",
      "\n",
      "Kindle: R$ 41,89\n",
      "Físico: R$ 44,10\n",
      "\n",
      "https://t.co/FKjxKLgBii https://t.co/Cweje7vtmI\n",
      "#15 Badass: Making Users Awesome (English Edition) \n",
      "\n",
      "Kindle: R$ 88,70\n",
      "Físico: R$ 191,79\n",
      "\n",
      "https://t.co/R7MlvwDekk https://t.co/pkJbWMNifz\n",
      "uma mensagem de esperança para o mundo, bom dia https://t.co/6zT8OUEXo9 https://t.co/joPtcnACEK\n",
      "defina ''best'' https://t.co/bdxcf6DAwC\n",
      "cheguei em casa AGORA\n",
      "Segunda  feira  Ednaldo Pereira https://t.co/sh08n9EBb3\n",
      "RT @shouldhaveaduck: https://t.co/hFWp69Vh5Q\n",
      "RT @amigoanormal: https://t.co/WJSiwppIud\n",
      "RT @awlivv: i can’t believe i missed the slut party https://t.co/6sJTMwGZoy\n"
     ]
    }
   ],
   "source": [
    "#Faz a chamada da sua timeline e imprime cada texto dos tweets\n",
    "public_tweets = api.home_timeline()\n",
    "for tweet in public_tweets:\n",
    "    print(tweet.text)"
   ]
  }
 ],
 "metadata": {
  "kernelspec": {
   "display_name": "Python 3.10.0 64-bit",
   "language": "python",
   "name": "python3"
  },
  "language_info": {
   "codemirror_mode": {
    "name": "ipython",
    "version": 3
   },
   "file_extension": ".py",
   "mimetype": "text/x-python",
   "name": "python",
   "nbconvert_exporter": "python",
   "pygments_lexer": "ipython3",
   "version": "3.10.0"
  },
  "orig_nbformat": 4,
  "vscode": {
   "interpreter": {
    "hash": "369f2c481f4da34e4445cda3fffd2e751bd1c4d706f27375911949ba6bb62e1c"
   }
  }
 },
 "nbformat": 4,
 "nbformat_minor": 2
}
