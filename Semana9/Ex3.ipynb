{
 "cells": [
  {
   "cell_type": "code",
   "execution_count": 2,
   "metadata": {},
   "outputs": [],
   "source": [
    "import random\n",
    "import time\n",
    "import os\n",
    "import names\n"
   ]
  },
  {
   "cell_type": "code",
   "execution_count": 4,
   "metadata": {},
   "outputs": [
    {
     "name": "stdout",
     "output_type": "stream",
     "text": [
      "--> Criando conjunto de dados com 10000000 nomes\n",
      "--> Esse processo pode demorar mais de 180 segundos\n"
     ]
    }
   ],
   "source": [
    "to = time.time()\n",
    "\n",
    "random.seed(42)\n",
    "\n",
    "qtde_nomes_unicos = 3000\n",
    "qtde_nomes_aleatorios = 10000000\n",
    "\n",
    "print(\"--> Criando conjunto de dados com {} nomes\".format(qtde_nomes_aleatorios))\n",
    "print(\"--> Esse processo pode demorar mais de {} segundos\".format(180))\n"
   ]
  },
  {
   "cell_type": "code",
   "execution_count": 6,
   "metadata": {},
   "outputs": [
    {
     "name": "stdout",
     "output_type": "stream",
     "text": [
      "--> Gerando 10000000 nomes aleatorios\n"
     ]
    }
   ],
   "source": [
    "aux = []\n",
    "\n",
    "for i in range(0, qtde_nomes_unicos):\n",
    "    aux.append(names.get_full_name())\n",
    "\n",
    "print(\"--> Gerando {} nomes aleatorios\". format(qtde_nomes_aleatorios))\n",
    "dados = []\n",
    "\n",
    "for i in range(0, qtde_nomes_aleatorios):\n",
    "    dados.append(random.choice(aux))"
   ]
  },
  {
   "cell_type": "code",
   "execution_count": 11,
   "metadata": {},
   "outputs": [
    {
     "name": "stdout",
     "output_type": "stream",
     "text": [
      "Lucy Bonilla\n",
      "Roy Williams\n",
      "Daria Weigle\n"
     ]
    }
   ],
   "source": [
    "type(dados)\n",
    "print(dados[0])\n",
    "print(dados[1])\n",
    "print(dados[2])"
   ]
  },
  {
   "cell_type": "code",
   "execution_count": 12,
   "metadata": {},
   "outputs": [
    {
     "name": "stdout",
     "output_type": "stream",
     "text": [
      "--> Gravando em arquivo.\n",
      "--> Criacao Finalizando em 361.72006392478943 segundos\n"
     ]
    }
   ],
   "source": [
    "print(\"--> Gravando em arquivo.\")\n",
    "\n",
    "arquivo = open('nomes_aleatorios.txt','w')\n",
    "\n",
    "for item in dados:\n",
    "    arquivo.write(item+'\\n')\n",
    "    \n",
    "arquivo.close()\n",
    "\n",
    "tf = time.time() - to\n",
    "print(\"--> Criacao Finalizando em {} segundos\".format(tf))"
   ]
  }
 ],
 "metadata": {
  "kernelspec": {
   "display_name": "Python 3.10.0 64-bit",
   "language": "python",
   "name": "python3"
  },
  "language_info": {
   "codemirror_mode": {
    "name": "ipython",
    "version": 3
   },
   "file_extension": ".py",
   "mimetype": "text/x-python",
   "name": "python",
   "nbconvert_exporter": "python",
   "pygments_lexer": "ipython3",
   "version": "3.10.0"
  },
  "orig_nbformat": 4,
  "vscode": {
   "interpreter": {
    "hash": "369f2c481f4da34e4445cda3fffd2e751bd1c4d706f27375911949ba6bb62e1c"
   }
  }
 },
 "nbformat": 4,
 "nbformat_minor": 2
}
