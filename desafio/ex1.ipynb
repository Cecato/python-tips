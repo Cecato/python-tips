{
 "cells": [
  {
   "cell_type": "code",
   "execution_count": 4,
   "metadata": {},
   "outputs": [
    {
     "data": {
      "text/plain": [
       "30"
      ]
     },
     "execution_count": 4,
     "metadata": {},
     "output_type": "execute_result"
    }
   ],
   "source": [
    "list = []\n",
    "file = open(\"actors.csv\")\n",
    "for i in file:\n",
    "    i = i.replace(\", \",\" \",1)\n",
    "    i = i.replace(\"\\n\",\"\").split(\",\")\n",
    "    list.append(i)  \n",
    "file.close\n",
    "\n",
    "j= 1\n",
    "actor = \"\"\n",
    "filme = 0\n",
    "for i in list:\n",
    "    \n",
    "    if j < len(list):\n",
    "        \n",
    "        if int(list[j][2]) >= filme:\n",
    "            actor = list[j][0]\n",
    "            filme = int(list[j][2])\n",
    "        \n",
    "    j+=1\n",
    "    \n",
    "\n",
    "txt = open(\"r_ex1.txt\",\"w+\")\n",
    "txt.write(\"Ator: \"+actor+\"\\nFilmes: \"+str(filme))     "
   ]
  }
 ],
 "metadata": {
  "interpreter": {
   "hash": "5f923dfb8c1769491e5cc8b59ff17a04f8bca238f983fd5e4b7fb033aa5c8457"
  },
  "kernelspec": {
   "display_name": "Python 3.9.12 ('base')",
   "language": "python",
   "name": "python3"
  },
  "language_info": {
   "codemirror_mode": {
    "name": "ipython",
    "version": 3
   },
   "file_extension": ".py",
   "mimetype": "text/x-python",
   "name": "python",
   "nbconvert_exporter": "python",
   "pygments_lexer": "ipython3",
   "version": "3.9.12"
  },
  "orig_nbformat": 4
 },
 "nbformat": 4,
 "nbformat_minor": 2
}
