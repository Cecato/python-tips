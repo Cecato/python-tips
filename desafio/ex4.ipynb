{
 "cells": [
  {
   "cell_type": "code",
   "execution_count": 48,
   "metadata": {},
   "outputs": [],
   "source": [
    "list = []\n",
    "\n",
    "file = open(\"actors.csv\")\n",
    "\n",
    "for i in file:\n",
    "    i = i.replace(\", \",\" \",1)\n",
    "    i = i.replace(\"\\n\",\"\").split(\",\")\n",
    "    list.append(i)\n",
    "    \n",
    "file.close\n",
    "\n",
    "j = 1\n",
    "aux = []\n",
    "for i in list:\n",
    "    if j < len(list):\n",
    "        aux.append(list[j][4])\n",
    "\n",
    "    j+=1\n",
    "    \n",
    "j = 0\n",
    "frequencia = []\n",
    "filme = []\n",
    "\n",
    "for i in aux:\n",
    "    if j < len(aux):\n",
    "        if aux[j] in filme:\n",
    "            pass\n",
    "        else:\n",
    "            filme.append(aux[j])\n",
    "            frequencia.append(aux.count(aux[j]))\n",
    "        \n",
    "    j+=1\n",
    "\n",
    "j = 0\n",
    "txt = open(\"r_ex4.txt\",\"w+\")\n",
    "for i in filme:\n",
    "    if int(frequencia[j]) > 2:\n",
    "        txt.write(filme[j]+\", \"+str(frequencia[j])+\"\\n\")     \n",
    "    j +=1\n"
   ]
  }
 ],
 "metadata": {
  "interpreter": {
   "hash": "5f923dfb8c1769491e5cc8b59ff17a04f8bca238f983fd5e4b7fb033aa5c8457"
  },
  "kernelspec": {
   "display_name": "Python 3 (ipykernel)",
   "language": "python",
   "name": "python3"
  },
  "language_info": {
   "codemirror_mode": {
    "name": "ipython",
    "version": 3
   },
   "file_extension": ".py",
   "mimetype": "text/x-python",
   "name": "python",
   "nbconvert_exporter": "python",
   "pygments_lexer": "ipython3",
   "version": "3.9.12"
  }
 },
 "nbformat": 4,
 "nbformat_minor": 2
}
