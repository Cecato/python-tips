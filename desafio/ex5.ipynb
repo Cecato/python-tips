{
 "cells": [
  {
   "cell_type": "code",
   "execution_count": 2,
   "metadata": {},
   "outputs": [
    {
     "data": {
      "text/plain": [
       "43"
      ]
     },
     "execution_count": 2,
     "metadata": {},
     "output_type": "execute_result"
    }
   ],
   "source": [
    "list = []\n",
    "\n",
    "file = open(\"actors.csv\")\n",
    "\n",
    "for i in file:\n",
    "    i = i.replace(\", \",\" \",1)\n",
    "    i = i.replace(\"\\n\",\"\").split(\",\")\n",
    "    list.append(i)\n",
    "    \n",
    "file.close\n",
    "\n",
    "j = 1\n",
    "actor = \"\"\n",
    "pagamento = 0.0\n",
    "\n",
    "for i in list:\n",
    "    if j < len(list):\n",
    "        if pagamento <= float(list[j][1]):\n",
    "            pagamento = float(list[j][1])\n",
    "            actor = list[j][0]\n",
    "    \n",
    "    j+=1\n",
    "\n",
    "txt = open(\"r_ex5.txt\",\"w+\")\n",
    "txt.write(\"Ator: \"+actor+\"\\nMaior pagamento: \"+str(pagamento))     \n",
    "\n",
    "  "
   ]
  }
 ],
 "metadata": {
  "interpreter": {
   "hash": "5f923dfb8c1769491e5cc8b59ff17a04f8bca238f983fd5e4b7fb033aa5c8457"
  },
  "kernelspec": {
   "display_name": "Python 3.9.12 ('base')",
   "language": "python",
   "name": "python3"
  },
  "language_info": {
   "codemirror_mode": {
    "name": "ipython",
    "version": 3
   },
   "file_extension": ".py",
   "mimetype": "text/x-python",
   "name": "python",
   "nbconvert_exporter": "python",
   "pygments_lexer": "ipython3",
   "version": "3.9.12"
  },
  "orig_nbformat": 4
 },
 "nbformat": 4,
 "nbformat_minor": 2
}
