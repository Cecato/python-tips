{
 "cells": [
  {
   "cell_type": "code",
   "execution_count": null,
   "metadata": {},
   "outputs": [],
   "source": [
    "class Passaro():\n",
    "\n",
    "    def voar(self):\n",
    "        print(\"Voar\")\n",
    "        \n",
    "    def emitir_som(self):\n",
    "        print(\"Som\")\n",
    "\n",
    "class Pato(Passaro):\n",
    "    \n",
    "    def emitir_som(self):\n",
    "        print(\"quack quack\\n\")\n",
    "        \n",
    "        \n",
    "pato = Pato()\n",
    "pato.voar()\n",
    "pato.emitir_som()\n",
    "\n",
    "class Pardal(Passaro):\n",
    "    \n",
    "    def emitir_som(self):\n",
    "        print(\"piu piu\")\n",
    "        \n",
    "pardal = Pardal()\n",
    "pardal.voar()\n",
    "pardal.emitir_som()\n",
    "\n"
   ]
  }
 ],
 "metadata": {
  "interpreter": {
   "hash": "5f923dfb8c1769491e5cc8b59ff17a04f8bca238f983fd5e4b7fb033aa5c8457"
  },
  "kernelspec": {
   "display_name": "Python 3.9.12 ('base')",
   "language": "python",
   "name": "python3"
  },
  "language_info": {
   "codemirror_mode": {
    "name": "ipython",
    "version": 3
   },
   "file_extension": ".py",
   "mimetype": "text/x-python",
   "name": "python",
   "nbconvert_exporter": "python",
   "pygments_lexer": "ipython3",
   "version": "3.9.12"
  },
  "orig_nbformat": 4
 },
 "nbformat": 4,
 "nbformat_minor": 2
}
