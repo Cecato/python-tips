{
 "cells": [
  {
   "cell_type": "code",
   "execution_count": null,
   "metadata": {},
   "outputs": [],
   "source": [
    "class Ordenadora():\n",
    "    def __init__(self, listaBaguncada):\n",
    "        self.__listaBaguncada = listaBaguncada\n",
    "        \n",
    "    def ordenacaoCrescente(self):\n",
    "        return sorted(self.__listaBaguncada)\n",
    "    \n",
    "    def ordenacaoDecrescente(self):\n",
    "        return sorted(self.__listaBaguncada, reverse=True)\n",
    "    \n",
    "crescente = Ordenadora([3,4,2,1,5])\n",
    "decrescente = Ordenadora([9,7,6,8])\n",
    "\n",
    "print(crescente.ordenacaoCrescente())\n",
    "print(decrescente.ordenacaoDecrescente())\n"
   ]
  }
 ],
 "metadata": {
  "interpreter": {
   "hash": "5f923dfb8c1769491e5cc8b59ff17a04f8bca238f983fd5e4b7fb033aa5c8457"
  },
  "kernelspec": {
   "display_name": "Python 3.9.12 ('base')",
   "language": "python",
   "name": "python3"
  },
  "language_info": {
   "codemirror_mode": {
    "name": "ipython",
    "version": 3
   },
   "file_extension": ".py",
   "mimetype": "text/x-python",
   "name": "python",
   "nbconvert_exporter": "python",
   "pygments_lexer": "ipython3",
   "version": "3.9.12"
  },
  "orig_nbformat": 4
 },
 "nbformat": 4,
 "nbformat_minor": 2
}
