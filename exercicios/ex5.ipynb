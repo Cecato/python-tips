{
 "cells": [
  {
   "cell_type": "code",
   "execution_count": null,
   "metadata": {},
   "outputs": [],
   "source": [
    "class Aviao():\n",
    "    def __init__(self, modelo, velocidade_maxima, cor, capacidade):\n",
    "        self.modelo = modelo\n",
    "        self.velocidade_maximo = velocidade_maxima\n",
    "        self.cor = cor\n",
    "        self.capacidade = capacidade\n",
    "\n",
    "modelo = input(\"Digite o Modelo:\")\n",
    "velocidade = input(\"Digite a Velocidade:\")\n",
    "capacidade = input(\"Digite a Capacidade:\") \n",
    "        \n",
    "aviao = Aviao(modelo,velocidade,\"Azul\",capacidade)\n",
    "\n",
    "print(\"O avião modelo\",aviao.modelo,\n",
    "      \"possui velocidade máxima de\",aviao.velocidade_maximo,\n",
    "      \"capacidade para\",aviao.capacidade,\n",
    "      \",passageiros e é da cor\",aviao.cor)"
   ]
  }
 ],
 "metadata": {
  "interpreter": {
   "hash": "5f923dfb8c1769491e5cc8b59ff17a04f8bca238f983fd5e4b7fb033aa5c8457"
  },
  "kernelspec": {
   "display_name": "Python 3.9.12 ('base')",
   "language": "python",
   "name": "python3"
  },
  "language_info": {
   "codemirror_mode": {
    "name": "ipython",
    "version": 3
   },
   "file_extension": ".py",
   "mimetype": "text/x-python",
   "name": "python",
   "nbconvert_exporter": "python",
   "pygments_lexer": "ipython3",
   "version": "3.9.12"
  },
  "orig_nbformat": 4
 },
 "nbformat": 4,
 "nbformat_minor": 2
}
